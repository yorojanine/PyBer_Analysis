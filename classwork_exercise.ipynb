{
 "cells": [
  {
   "cell_type": "code",
   "execution_count": null,
   "metadata": {},
   "outputs": [],
   "source": [
    "# %matplotlib notebook"
   ]
  },
  {
   "cell_type": "code",
   "execution_count": 1,
   "metadata": {},
   "outputs": [],
   "source": [
    "%matplotlib inline"
   ]
  },
  {
   "cell_type": "code",
   "execution_count": 2,
   "metadata": {},
   "outputs": [
    {
     "data": {
      "text/plain": [
       "array([ 1,  2,  3,  4,  5,  6,  7,  8,  9, 10, 11, 12])"
      ]
     },
     "execution_count": 2,
     "metadata": {},
     "output_type": "execute_result"
    }
   ],
   "source": [
    "import matplotlib.pyplot as plt\n",
    "import numpy as np\n",
    "\n",
    "x_axis = np.arange(1,13,1)\n",
    "x_axis"
   ]
  },
  {
   "cell_type": "code",
   "execution_count": 3,
   "metadata": {},
   "outputs": [
    {
     "data": {
      "text/plain": [
       "[3.9200000000000004,\n",
       " 5.6000000000000005,\n",
       " 10.64,\n",
       " 16.8,\n",
       " 22.400000000000002,\n",
       " 28.000000000000004,\n",
       " 30.240000000000002,\n",
       " 29.120000000000005,\n",
       " 25.200000000000003,\n",
       " 18.48,\n",
       " 12.88,\n",
       " 6.720000000000001]"
      ]
     },
     "execution_count": 3,
     "metadata": {},
     "output_type": "execute_result"
    }
   ],
   "source": [
    "temp_F = [39, 42, 51, 62, 72, 82, 86, 84, 77, 65, 55, 44]\n",
    "temp_C = [ (f - 32) * 0.56 for f in temp_F]\n",
    "temp_C "
   ]
  },
  {
   "cell_type": "code",
   "execution_count": 4,
   "metadata": {},
   "outputs": [],
   "source": [
    "#f, = plt.plot(x_axis,temp_F, marker=\"^\", label= \"f\")\n",
    "#c, = plt.plot(x_axis,temp_C, marker=\"o\", label= \"c\")\n",
    "#plt.legend(handles= [f,c], loc=\"best\")\n",
    "#plt.xlabel(\"Month\")\n",
    "#plt.ylabel(\"Degrees\")\n",
    "#plt.show()"
   ]
  },
  {
   "cell_type": "code",
   "execution_count": 25,
   "metadata": {},
   "outputs": [
    {
     "data": {
      "image/png": "[encoded data removed]",
      "text/plain": [
       "<Figure size 432x288 with 1 Axes>"
      ]
     },
     "metadata": {
      "needs_background": "light"
     },
     "output_type": "display_data"
    }
   ],
   "source": [
    "f, = plt.plot(x_axis,temp_F, marker=\"^\", label= \"f\")\n",
    "c, = plt.plot(x_axis,temp_C, marker=\"o\", label= \"c\")\n",
    "plt.legend(handles= [f,c], loc=\"best\")\n",
    "plt.xlabel(\"Month\")\n",
    "plt.ylabel(\"Degrees\")\n",
    "plt.show()"
   ]
  },
  {
   "cell_type": "markdown",
   "metadata": {},
   "source": [
    "Particularly for this .plot() it does not work because it returns a \"list of Line2D\"\n",
    "(https://matplotlib.org/api/_as_gen/matplotlib.pyplot.plot.html#matplotlib.pyplot.plot). \n",
    "Line2D is a special object and must be treated differently.\n",
    "\n",
    "An example of when to use underscore characters:\n",
    "def getPerson():\n",
    "    name = \"Leona\"\n",
    "    age = 35\n",
    "    country = \"UK\"\n",
    "    return name,age,country\n",
    "name, _, _ = getPerson() # if you are interested only in the person's name"
   ]
  },
  {
   "cell_type": "code",
   "execution_count": null,
   "metadata": {},
   "outputs": [],
   "source": [
    "#plt.plot(x_axis,temp_F, marker=\"^\", label= \"f\")\n",
    "#plt.plot(x_axis,temp_C, marker=\"o\", label= \"c\")\n",
    "#plt.xlabel(\"Month\")\n",
    "#plt.ylabel(\"Degrees\")\n",
    "#plt.legend()\n",
    "#plt.show()"
   ]
  },
  {
   "cell_type": "code",
   "execution_count": null,
   "metadata": {},
   "outputs": [],
   "source": []
  }
 ],
 "metadata": {
  "kernelspec": {
   "display_name": "PythonData",
   "language": "python",
   "name": "pythondata"
  },
  "language_info": {
   "codemirror_mode": {
    "name": "ipython",
    "version": 3
   },
   "file_extension": ".py",
   "mimetype": "text/x-python",
   "name": "python",
   "nbconvert_exporter": "python",
   "pygments_lexer": "ipython3",
   "version": "3.7.6"
  }
 },
 "nbformat": 4,
 "nbformat_minor": 4
}
